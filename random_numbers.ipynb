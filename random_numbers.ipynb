{
 "cells": [
  {
   "cell_type": "code",
   "execution_count": 1,
   "id": "d8f78af5",
   "metadata": {},
   "outputs": [],
   "source": [
    "# Import the random module.\n",
    "import random"
   ]
  },
  {
   "cell_type": "code",
   "execution_count": 3,
   "id": "ec6a1036",
   "metadata": {},
   "outputs": [
    {
     "data": {
      "text/plain": [
       "3930155"
      ]
     },
     "execution_count": 3,
     "metadata": {},
     "output_type": "execute_result"
    }
   ],
   "source": [
    "random.randint(20,5242452)"
   ]
  },
  {
   "cell_type": "code",
   "execution_count": 4,
   "id": "e3d99d87",
   "metadata": {},
   "outputs": [
    {
     "data": {
      "text/plain": [
       "52009.132700331094"
      ]
     },
     "execution_count": 4,
     "metadata": {},
     "output_type": "execute_result"
    }
   ],
   "source": [
    "random.uniform(32,53526)"
   ]
  },
  {
   "cell_type": "code",
   "execution_count": 5,
   "id": "98871afb",
   "metadata": {},
   "outputs": [
    {
     "data": {
      "text/plain": [
       "0.20271119745142185"
      ]
     },
     "execution_count": 5,
     "metadata": {},
     "output_type": "execute_result"
    }
   ],
   "source": [
    "random.random()"
   ]
  },
  {
   "cell_type": "code",
   "execution_count": 6,
   "id": "a622e8c8",
   "metadata": {},
   "outputs": [
    {
     "data": {
      "text/plain": [
       "21"
      ]
     },
     "execution_count": 6,
     "metadata": {},
     "output_type": "execute_result"
    }
   ],
   "source": [
    "random.randrange(21,3542,4235209)"
   ]
  },
  {
   "cell_type": "code",
   "execution_count": 7,
   "id": "a23bb802",
   "metadata": {},
   "outputs": [],
   "source": [
    "x = 1\n",
    "latitudes = []\n",
    "while x < 11:\n",
    "    random_lat = random.randint(-90, 89) + random.random()\n",
    "    latitudes.append(random_lat)\n",
    "    x += 1"
   ]
  },
  {
   "cell_type": "code",
   "execution_count": 8,
   "id": "6b9999ff",
   "metadata": {},
   "outputs": [
    {
     "data": {
      "text/plain": [
       "[76.85292363563698,\n",
       " 62.66306329709231,\n",
       " -50.88790798910141,\n",
       " 15.154764988053893,\n",
       " -46.0206653411075,\n",
       " -32.191259195430426,\n",
       " -39.012289466446965,\n",
       " -17.41034049301566,\n",
       " 54.03815411982936,\n",
       " 65.58931300640268]"
      ]
     },
     "execution_count": 8,
     "metadata": {},
     "output_type": "execute_result"
    }
   ],
   "source": [
    "latitudes"
   ]
  },
  {
   "cell_type": "code",
   "execution_count": 12,
   "id": "3fc05db2",
   "metadata": {},
   "outputs": [
    {
     "data": {
      "text/plain": [
       "33"
      ]
     },
     "execution_count": 12,
     "metadata": {},
     "output_type": "execute_result"
    }
   ],
   "source": [
    "random.randrange(-90, 90, step=3)"
   ]
  },
  {
   "cell_type": "code",
   "execution_count": 13,
   "id": "8d9f9b97",
   "metadata": {},
   "outputs": [
    {
     "data": {
      "text/plain": [
       "-24.181155279003832"
      ]
     },
     "execution_count": 13,
     "metadata": {},
     "output_type": "execute_result"
    }
   ],
   "source": [
    "random.uniform(-90, 90)"
   ]
  },
  {
   "cell_type": "code",
   "execution_count": 14,
   "id": "289fc0ca",
   "metadata": {},
   "outputs": [],
   "source": [
    "x = 1\n",
    "latitudes = []\n",
    "while x < 11:\n",
    "    random_lat = random.uniform(-90,90)\n",
    "    latitudes.append(random_lat)\n",
    "    x += 1"
   ]
  },
  {
   "cell_type": "code",
   "execution_count": 16,
   "id": "0b5695e8",
   "metadata": {},
   "outputs": [],
   "source": [
    "#import NumPy module\n",
    "import numpy as np"
   ]
  },
  {
   "cell_type": "code",
   "execution_count": 17,
   "id": "0e80d3ba",
   "metadata": {},
   "outputs": [
    {
     "data": {
      "text/plain": [
       "64.88520156961133"
      ]
     },
     "execution_count": 17,
     "metadata": {},
     "output_type": "execute_result"
    }
   ],
   "source": [
    "np.random.uniform(-90.000, 90.000)"
   ]
  },
  {
   "cell_type": "code",
   "execution_count": 18,
   "id": "0a43ccab",
   "metadata": {},
   "outputs": [
    {
     "data": {
      "text/plain": [
       "array([-35.25739556,  79.92335918, -39.40812561, -56.86170402,\n",
       "        -6.12777793, -27.09475196,   4.22605162,  78.67353982,\n",
       "       -18.13833707,  59.12291827, -66.64942844, -65.06261741,\n",
       "        75.89102047, -56.34295231, -47.4923081 , -59.5709464 ,\n",
       "        63.03834303,  54.73979669, -82.78966427,  61.85860723,\n",
       "       -39.98218159,  28.76379814,   7.36785972,  49.34966712,\n",
       "        68.98552479,  46.71673192,  34.29590382, -35.8727738 ,\n",
       "       -33.41122442,  83.39650384,   7.21339771, -14.85079542,\n",
       "        50.23698751, -27.50986425,  29.96186221, -44.84924203,\n",
       "       -38.54196798, -81.04941217, -26.91767681,  26.33361232,\n",
       "       -10.72967181,  35.47253116, -40.96318634, -11.19394339,\n",
       "       -28.36242095, -48.62799833, -40.46472738, -81.55253467,\n",
       "        62.82678411,  84.49795973])"
      ]
     },
     "execution_count": 18,
     "metadata": {},
     "output_type": "execute_result"
    }
   ],
   "source": [
    "np.random.uniform(-90.000, 90.000, size=50)"
   ]
  },
  {
   "cell_type": "code",
   "execution_count": 23,
   "id": "65c571ab",
   "metadata": {},
   "outputs": [],
   "source": [
    "# Import timeit.\n",
    "import timeit"
   ]
  },
  {
   "cell_type": "code",
   "execution_count": 24,
   "id": "4b85fc9c",
   "metadata": {},
   "outputs": [
    {
     "name": "stdout",
     "output_type": "stream",
     "text": [
      "14.3 µs ± 398 ns per loop (mean ± std. dev. of 7 runs, 100000 loops each)\n"
     ]
    }
   ],
   "source": [
    "%timeit np.random.uniform(-90.000, 90.000, size=1500)"
   ]
  },
  {
   "cell_type": "code",
   "execution_count": 25,
   "id": "6989bf79",
   "metadata": {},
   "outputs": [
    {
     "name": "stdout",
     "output_type": "stream",
     "text": [
      "1.83 ms ± 2.87 µs per loop (mean ± std. dev. of 7 runs, 1000 loops each)\n"
     ]
    }
   ],
   "source": [
    "def latitudes(size):\n",
    "    latitudes = []\n",
    "    x = 0\n",
    "    while x < (size):\n",
    "        random_lat = random.randint(-90, 90) + random.random()\n",
    "        latitudes.append(random_lat)\n",
    "        x += 1\n",
    "    return latitudes\n",
    "# Call the function with 1500.\n",
    "%timeit latitudes(1500)"
   ]
  },
  {
   "cell_type": "code",
   "execution_count": null,
   "id": "a6808098",
   "metadata": {},
   "outputs": [],
   "source": []
  }
 ],
 "metadata": {
  "kernelspec": {
   "display_name": "PythonData",
   "language": "python",
   "name": "pythondata"
  },
  "language_info": {
   "codemirror_mode": {
    "name": "ipython",
    "version": 3
   },
   "file_extension": ".py",
   "mimetype": "text/x-python",
   "name": "python",
   "nbconvert_exporter": "python",
   "pygments_lexer": "ipython3",
   "version": "3.7.13"
  }
 },
 "nbformat": 4,
 "nbformat_minor": 5
}
